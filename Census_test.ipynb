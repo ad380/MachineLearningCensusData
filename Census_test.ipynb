{
 "cells": [
  {
   "cell_type": "code",
   "execution_count": 4,
   "metadata": {},
   "outputs": [
    {
     "name": "stderr",
     "output_type": "stream",
     "text": [
      "/Library/Frameworks/Python.framework/Versions/3.7/lib/python3.7/site-packages/IPython/core/interactiveshell.py:3057: DtypeWarning: Columns (32,33,34,35,36,37,38,39,40,41,42,44,45) have mixed types. Specify dtype option on import or set low_memory=False.\n",
      "  interactivity=interactivity, compiler=compiler, result=result)\n"
     ]
    },
    {
     "name": "stdout",
     "output_type": "stream",
     "text": [
      "Ages                         70.0\n",
      "Wet Fingerprint Taken         0.0\n",
      "Check in time             57218.0\n",
      "SCHEDULED                     1.0\n",
      "Appointment Time            193.0\n",
      "Friday                        0.0\n",
      "Monday                        0.0\n",
      "Saturday                      1.0\n",
      "Sunday                        0.0\n",
      "Thursday                      0.0\n",
      "Tuesday                       0.0\n",
      "Wednesday                     0.0\n",
      "NATACS site                   0.0\n",
      "Office Depot site             0.0\n",
      "Replacement site              1.0\n",
      "Standard fixed site           0.0\n",
      "Name: 38012, dtype: float64\n"
     ]
    }
   ],
   "source": [
    "import Cleanup_Census\n",
    "import datetime\n",
    "import statsmodels.api as sm\n",
    "from scipy import stats\n",
    "import pandas as pd\n",
    "import numpy as np\n",
    "import matplotlib.pyplot as plt\n",
    "import seaborn as sns\n",
    "from sklearn import *\n",
    "from sklearn.datasets import *\n",
    "from sklearn.model_selection import *\n",
    "from sklearn.linear_model import *\n",
    "from sklearn.metrics import *\n",
    "from sklearn.preprocessing import *\n",
    "from sklearn.ensemble import *\n",
    "%matplotlib inline\n",
    "import pickle\n",
    "\n",
    "#Load model\n",
    "model = pickle.load(open(\"RFR_Model.dms\", \"rb\"))\n",
    "\n",
    "#All strings in data to be considered Null\n",
    "navals = [\" \",\"NA\",\"N/A\", \"#N/A\", \"  \"]\n",
    "\n",
    "#Read data\n",
    "data = pd.read_csv(\"Customer data 2019-07-30 400PM Anonymized data and age.csv\", na_values = navals)\n",
    "\n",
    "#Clean data\n",
    "data = Cleanup_Census.cleanup(data)\n",
    "\n",
    "#prints a single row of data\n",
    "print(data.transpose()[38012])"
   ]
  },
  {
   "cell_type": "code",
   "execution_count": 5,
   "metadata": {},
   "outputs": [
    {
     "name": "stdout",
     "output_type": "stream",
     "text": [
      "(70, 0, 57218, 1, 0, 0, 1, 0, 0, 0, 0, 0, 0, 1, 0)\n",
      "Time: [431.3]\n"
     ]
    }
   ],
   "source": [
    "#tests model on new test frame\n",
    "test_frame = 70, 0, 57218, 1, 0, 0, 1, 0, 0, 0, 0, 0, 0, 1, 0\n",
    "print(test_frame)\n",
    "prediction = model.predict([test_frame])\n",
    "print(\"Time: \" + str(prediction))"
   ]
  },
  {
   "cell_type": "code",
   "execution_count": null,
   "metadata": {},
   "outputs": [],
   "source": []
  }
 ],
 "metadata": {
  "kernelspec": {
   "display_name": "Python 3",
   "language": "python",
   "name": "python3"
  },
  "language_info": {
   "codemirror_mode": {
    "name": "ipython",
    "version": 3
   },
   "file_extension": ".py",
   "mimetype": "text/x-python",
   "name": "python",
   "nbconvert_exporter": "python",
   "pygments_lexer": "ipython3",
   "version": "3.7.4"
  }
 },
 "nbformat": 4,
 "nbformat_minor": 4
}
